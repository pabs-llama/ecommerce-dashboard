{
 "cells": [
  {
   "cell_type": "code",
   "execution_count": 1,
   "metadata": {},
   "outputs": [],
   "source": [
    "# import necessary libraries\n",
    "\n",
    "# 📦 Standard Library\n",
    "import sys\n",
    "from pathlib import Path\n",
    "import os\n",
    "\n",
    "# Data Science Libraries\n",
    "import pandas as pd\n",
    "import numpy  as np\n",
    "\n",
    "# 🛠️ Project-Specific Modules\n",
    "sys.path.append(str(Path().resolve().parent / \"src\"))\n",
    "from paths import DOCS_DIR, INTERIM_DIR, RAW_DATA_DIR\n",
    "\n",
    "# SQLAlchemy and SQLite for database operations\n",
    "import sqlite3\n",
    "from sqlite3 import Error\n",
    "from sqlalchemy import create_engine, inspect"
   ]
  },
  {
   "cell_type": "markdown",
   "metadata": {},
   "source": [
    "# Data preparation to work with SQLite"
   ]
  },
  {
   "cell_type": "markdown",
   "metadata": {},
   "source": [
    "## Connection"
   ]
  },
  {
   "cell_type": "code",
   "execution_count": 4,
   "metadata": {},
   "outputs": [],
   "source": [
    "# Delete the old database file if it exists\n",
    "if os.path.exists(\"superstore_sql.db\"):\n",
    "    os.remove(\"superstore_sql.db\")"
   ]
  },
  {
   "cell_type": "code",
   "execution_count": 2,
   "metadata": {},
   "outputs": [],
   "source": [
    "# Create a fresh SQLite connection\n",
    "conn = sqlite3.connect(RAW_DATA_DIR/\"superstore_sql.db\")\n",
    "cursor = conn.cursor()\n"
   ]
  },
  {
   "cell_type": "markdown",
   "metadata": {},
   "source": [
    "## Tables"
   ]
  },
  {
   "cell_type": "code",
   "execution_count": 3,
   "metadata": {},
   "outputs": [],
   "source": [
    "# Create Tables\n",
    "cursor.executescript('''             \n",
    "-- Regions Table\n",
    "CREATE TABLE Regions (\n",
    "    RegionID INTEGER PRIMARY KEY AUTOINCREMENT,\n",
    "    RegionName VARCHAR(50),\n",
    "    State VARCHAR(50),\n",
    "    City VARCHAR(100),\n",
    "    PostalCode INT\n",
    ");\n",
    "\n",
    "-- Customers Table\n",
    "CREATE TABLE Customers (\n",
    "    CustomerID VARCHAR(20) PRIMARY KEY,\n",
    "    CustomerName VARCHAR(100),\n",
    "    Segment VARCHAR(50)\n",
    ");\n",
    "\n",
    "-- Customer Address Junction Table (This enables customers to have multiple addresses and vice versa )\n",
    "CREATE TABLE CustomerAddress (\n",
    "    CustomerID VARCHAR(20),\n",
    "    RegionID INT,\n",
    "    FOREIGN KEY (CustomerID) REFERENCES Customers(CustomerID),\n",
    "    FOREIGN KEY (RegionID) REFERENCES Regions(RegionID),\n",
    "    PRIMARY KEY (CustomerID, RegionID)\n",
    ");                     \n",
    "-- Categories Table\n",
    "    CREATE TABLE Categories (\n",
    "    CategoryID INTEGER PRIMARY KEY AUTOINCREMENT,\n",
    "    CategoryName VARCHAR(50),\n",
    "    SubCategoryName VARCHAR(50),\n",
    "    CategoryCode VARCHAR(10) UNIQUE  \n",
    ");\n",
    "\n",
    "-- Products Table\n",
    "CREATE TABLE Products (\n",
    "    ProductID VARCHAR(20) PRIMARY KEY,\n",
    "    ProductName VARCHAR(255),\n",
    "    CategoryCode VARCHAR(10),\n",
    "    FOREIGN KEY (CategoryCode) REFERENCES Categories(CategoryCode)\n",
    ");\n",
    "\n",
    "-- Shipping Table\n",
    "CREATE TABLE Shipping (\n",
    "    ShipID INTEGER PRIMARY KEY AUTOINCREMENT,\n",
    "    ShipMode VARCHAR(50),\n",
    "    ShipDate DATE\n",
    ");\n",
    "\n",
    "-- Orders Table\n",
    "CREATE TABLE Orders (\n",
    "    OrderID VARCHAR(20) PRIMARY KEY,\n",
    "    OrderDate DATE,\n",
    "    CustomerID VARCHAR(20),\n",
    "    ShipID INT,\n",
    "    FOREIGN KEY (CustomerID) REFERENCES Customers(CustomerID),\n",
    "    FOREIGN KEY (ShipID) REFERENCES Shipping(ShipID)\n",
    ");\n",
    "\n",
    "-- Order Details Table\n",
    "CREATE TABLE OrderDetails (\n",
    "    OrderDetailID INTEGER PRIMARY KEY AUTOINCREMENT,\n",
    "    OrderID VARCHAR(20),\n",
    "    ProductID VARCHAR(20),\n",
    "    Sales DECIMAL(10,2),\n",
    "    Quantity INT,\n",
    "    Discount DECIMAL(5,2),\n",
    "    Profit DECIMAL(10,2),\n",
    "    FOREIGN KEY (OrderID) REFERENCES Orders(OrderID),\n",
    "    FOREIGN KEY (ProductID) REFERENCES Products(ProductID)\n",
    ");\n",
    "''')\n",
    "\n",
    "# Commit and close connection\n",
    "conn.commit()\n",
    "conn.close()\n"
   ]
  },
  {
   "cell_type": "markdown",
   "metadata": {},
   "source": [
    "## Populating the tables"
   ]
  },
  {
   "cell_type": "markdown",
   "metadata": {},
   "source": [
    "### Load CSV and setup connection"
   ]
  },
  {
   "cell_type": "code",
   "execution_count": 4,
   "metadata": {},
   "outputs": [],
   "source": [
    "# upload csv\n",
    "superstore_df = pd.read_csv(RAW_DATA_DIR/\"Sample-Superstore.csv\", encoding = \"latin1\")"
   ]
  },
  {
   "cell_type": "code",
   "execution_count": 5,
   "metadata": {},
   "outputs": [],
   "source": [
    "# Clean column names \n",
    "superstore_df.columns = superstore_df.columns.str.strip().str.replace(' ', '_')\n",
    "\n",
    "#fixing date columns \n",
    "## convert Order Date and Ship Date to datetime format\n",
    "superstore_df[\"Order_Date\"] = pd.to_datetime(superstore_df[\"Order_Date\"], format='mixed')\n",
    "superstore_df[\"Ship_Date\"] = pd.to_datetime(superstore_df[\"Ship_Date\"], format='mixed')\n",
    "\n",
    "## convert them back to string format for SQLite compatibility\n",
    "superstore_df[\"Order_Date\"] = superstore_df[\"Order_Date\"].astype(str)\n",
    "superstore_df[\"Ship_Date\"] = superstore_df[\"Ship_Date\"].astype(str)\n",
    "\n",
    "## Drop Row ID since it doesnt have any meaningful role in relationships / prevent errors\n",
    "superstore_df.drop(columns=[\"Row_ID\"], inplace=True)\n",
    "\n",
    "# Connect to SQLite\n",
    "engine = create_engine(\"sqlite:///superstore_sql.db\")"
   ]
  },
  {
   "cell_type": "markdown",
   "metadata": {},
   "source": [
    "### Populate Regions"
   ]
  },
  {
   "cell_type": "code",
   "execution_count": 7,
   "metadata": {},
   "outputs": [],
   "source": [
    "# Select distinct regions\n",
    "regions_df = superstore_df[['Region', 'State', 'City', 'Postal_Code']].drop_duplicates()\n",
    "regions_df = regions_df.rename(columns={\n",
    "    'Region': 'RegionName', \n",
    "    'Postal_Code': 'PostalCode'\n",
    "})\n",
    "#connect to the database\n",
    "conn = sqlite3.connect(RAW_DATA_DIR/\"superstore_sql.db\")\n",
    "# Insert into table\n",
    "regions_df.to_sql('Regions', conn, if_exists='append', index=False)\n",
    "\n",
    "# Fetch with RegionID\n",
    "regions_sql = pd.read_sql_query(\"SELECT * FROM Regions\", conn)\n"
   ]
  },
  {
   "cell_type": "code",
   "execution_count": 8,
   "metadata": {},
   "outputs": [
    {
     "data": {
      "text/html": [
       "<div>\n",
       "<style scoped>\n",
       "    .dataframe tbody tr th:only-of-type {\n",
       "        vertical-align: middle;\n",
       "    }\n",
       "\n",
       "    .dataframe tbody tr th {\n",
       "        vertical-align: top;\n",
       "    }\n",
       "\n",
       "    .dataframe thead th {\n",
       "        text-align: right;\n",
       "    }\n",
       "</style>\n",
       "<table border=\"1\" class=\"dataframe\">\n",
       "  <thead>\n",
       "    <tr style=\"text-align: right;\">\n",
       "      <th></th>\n",
       "      <th>RegionID</th>\n",
       "      <th>RegionName</th>\n",
       "      <th>State</th>\n",
       "      <th>City</th>\n",
       "      <th>PostalCode</th>\n",
       "    </tr>\n",
       "  </thead>\n",
       "  <tbody>\n",
       "    <tr>\n",
       "      <th>0</th>\n",
       "      <td>1</td>\n",
       "      <td>South</td>\n",
       "      <td>Kentucky</td>\n",
       "      <td>Henderson</td>\n",
       "      <td>42420</td>\n",
       "    </tr>\n",
       "    <tr>\n",
       "      <th>1</th>\n",
       "      <td>2</td>\n",
       "      <td>West</td>\n",
       "      <td>California</td>\n",
       "      <td>Los Angeles</td>\n",
       "      <td>90036</td>\n",
       "    </tr>\n",
       "    <tr>\n",
       "      <th>2</th>\n",
       "      <td>3</td>\n",
       "      <td>South</td>\n",
       "      <td>Florida</td>\n",
       "      <td>Fort Lauderdale</td>\n",
       "      <td>33311</td>\n",
       "    </tr>\n",
       "    <tr>\n",
       "      <th>3</th>\n",
       "      <td>4</td>\n",
       "      <td>West</td>\n",
       "      <td>California</td>\n",
       "      <td>Los Angeles</td>\n",
       "      <td>90032</td>\n",
       "    </tr>\n",
       "    <tr>\n",
       "      <th>4</th>\n",
       "      <td>5</td>\n",
       "      <td>South</td>\n",
       "      <td>North Carolina</td>\n",
       "      <td>Concord</td>\n",
       "      <td>28027</td>\n",
       "    </tr>\n",
       "    <tr>\n",
       "      <th>...</th>\n",
       "      <td>...</td>\n",
       "      <td>...</td>\n",
       "      <td>...</td>\n",
       "      <td>...</td>\n",
       "      <td>...</td>\n",
       "    </tr>\n",
       "    <tr>\n",
       "      <th>627</th>\n",
       "      <td>628</td>\n",
       "      <td>South</td>\n",
       "      <td>Arkansas</td>\n",
       "      <td>Springdale</td>\n",
       "      <td>72762</td>\n",
       "    </tr>\n",
       "    <tr>\n",
       "      <th>628</th>\n",
       "      <td>629</td>\n",
       "      <td>West</td>\n",
       "      <td>California</td>\n",
       "      <td>Lodi</td>\n",
       "      <td>95240</td>\n",
       "    </tr>\n",
       "    <tr>\n",
       "      <th>629</th>\n",
       "      <td>630</td>\n",
       "      <td>Central</td>\n",
       "      <td>Texas</td>\n",
       "      <td>La Porte</td>\n",
       "      <td>77571</td>\n",
       "    </tr>\n",
       "    <tr>\n",
       "      <th>630</th>\n",
       "      <td>631</td>\n",
       "      <td>East</td>\n",
       "      <td>Ohio</td>\n",
       "      <td>Mason</td>\n",
       "      <td>45040</td>\n",
       "    </tr>\n",
       "    <tr>\n",
       "      <th>631</th>\n",
       "      <td>632</td>\n",
       "      <td>South</td>\n",
       "      <td>Georgia</td>\n",
       "      <td>Woodstock</td>\n",
       "      <td>30188</td>\n",
       "    </tr>\n",
       "  </tbody>\n",
       "</table>\n",
       "<p>632 rows × 5 columns</p>\n",
       "</div>"
      ],
      "text/plain": [
       "     RegionID RegionName           State             City  PostalCode\n",
       "0           1      South        Kentucky        Henderson       42420\n",
       "1           2       West      California      Los Angeles       90036\n",
       "2           3      South         Florida  Fort Lauderdale       33311\n",
       "3           4       West      California      Los Angeles       90032\n",
       "4           5      South  North Carolina          Concord       28027\n",
       "..        ...        ...             ...              ...         ...\n",
       "627       628      South        Arkansas       Springdale       72762\n",
       "628       629       West      California             Lodi       95240\n",
       "629       630    Central           Texas         La Porte       77571\n",
       "630       631       East            Ohio            Mason       45040\n",
       "631       632      South         Georgia        Woodstock       30188\n",
       "\n",
       "[632 rows x 5 columns]"
      ]
     },
     "execution_count": 8,
     "metadata": {},
     "output_type": "execute_result"
    }
   ],
   "source": [
    "# visualize the regions table\n",
    "regions_sql"
   ]
  },
  {
   "cell_type": "markdown",
   "metadata": {},
   "source": [
    "### Populate Customers"
   ]
  },
  {
   "cell_type": "code",
   "execution_count": 9,
   "metadata": {},
   "outputs": [
    {
     "data": {
      "text/plain": [
       "793"
      ]
     },
     "execution_count": 9,
     "metadata": {},
     "output_type": "execute_result"
    }
   ],
   "source": [
    "customers_df = superstore_df[['Customer_ID', 'Customer_Name', 'Segment']].drop_duplicates()\n",
    "customers_df = customers_df.rename(columns={\n",
    "    'Customer_ID': 'CustomerID',\n",
    "    'Customer_Name': 'CustomerName'\n",
    "})\n",
    "\n",
    "customers_df.to_sql('Customers', conn, if_exists='append', index=False)"
   ]
  },
  {
   "cell_type": "markdown",
   "metadata": {},
   "source": [
    "### Populate Customer Address (junction)"
   ]
  },
  {
   "cell_type": "code",
   "execution_count": 10,
   "metadata": {},
   "outputs": [
    {
     "data": {
      "text/plain": [
       "4910"
      ]
     },
     "execution_count": 10,
     "metadata": {},
     "output_type": "execute_result"
    }
   ],
   "source": [
    "# Prepare region lookup\n",
    "region_lookup = pd.read_sql_query(\"SELECT RegionID, RegionName, State, City, PostalCode FROM Regions\", conn)\n",
    "\n",
    "# Merge to get RegionID\n",
    "customer_address_df = superstore_df[['Customer_ID', 'Region', 'State', 'City', 'Postal_Code']].drop_duplicates()\n",
    "customer_address_df = customer_address_df.rename(columns={\n",
    "    'Customer_ID': 'CustomerID',\n",
    "    'Region': 'RegionName',\n",
    "    'Postal_Code': 'PostalCode'\n",
    "})\n",
    "\n",
    "customer_address_df = customer_address_df.merge(\n",
    "    region_lookup, on=['RegionName', 'State', 'City', 'PostalCode'], how='left'\n",
    ")[['CustomerID', 'RegionID']].drop_duplicates()\n",
    "\n",
    "customer_address_df.to_sql('CustomerAddress', conn, if_exists='append', index=False)\n"
   ]
  },
  {
   "cell_type": "code",
   "execution_count": 11,
   "metadata": {},
   "outputs": [
    {
     "data": {
      "text/html": [
       "<div>\n",
       "<style scoped>\n",
       "    .dataframe tbody tr th:only-of-type {\n",
       "        vertical-align: middle;\n",
       "    }\n",
       "\n",
       "    .dataframe tbody tr th {\n",
       "        vertical-align: top;\n",
       "    }\n",
       "\n",
       "    .dataframe thead th {\n",
       "        text-align: right;\n",
       "    }\n",
       "</style>\n",
       "<table border=\"1\" class=\"dataframe\">\n",
       "  <thead>\n",
       "    <tr style=\"text-align: right;\">\n",
       "      <th></th>\n",
       "      <th>CustomerID</th>\n",
       "      <th>RegionID</th>\n",
       "    </tr>\n",
       "  </thead>\n",
       "  <tbody>\n",
       "    <tr>\n",
       "      <th>0</th>\n",
       "      <td>CG-12520</td>\n",
       "      <td>1</td>\n",
       "    </tr>\n",
       "    <tr>\n",
       "      <th>1</th>\n",
       "      <td>DV-13045</td>\n",
       "      <td>2</td>\n",
       "    </tr>\n",
       "    <tr>\n",
       "      <th>2</th>\n",
       "      <td>SO-20335</td>\n",
       "      <td>3</td>\n",
       "    </tr>\n",
       "    <tr>\n",
       "      <th>3</th>\n",
       "      <td>BH-11710</td>\n",
       "      <td>4</td>\n",
       "    </tr>\n",
       "    <tr>\n",
       "      <th>4</th>\n",
       "      <td>AA-10480</td>\n",
       "      <td>5</td>\n",
       "    </tr>\n",
       "    <tr>\n",
       "      <th>...</th>\n",
       "      <td>...</td>\n",
       "      <td>...</td>\n",
       "    </tr>\n",
       "    <tr>\n",
       "      <th>4905</th>\n",
       "      <td>ML-17410</td>\n",
       "      <td>142</td>\n",
       "    </tr>\n",
       "    <tr>\n",
       "      <th>4906</th>\n",
       "      <td>RA-19885</td>\n",
       "      <td>507</td>\n",
       "    </tr>\n",
       "    <tr>\n",
       "      <th>4907</th>\n",
       "      <td>TB-21400</td>\n",
       "      <td>124</td>\n",
       "    </tr>\n",
       "    <tr>\n",
       "      <th>4908</th>\n",
       "      <td>DB-13060</td>\n",
       "      <td>147</td>\n",
       "    </tr>\n",
       "    <tr>\n",
       "      <th>4909</th>\n",
       "      <td>CC-12220</td>\n",
       "      <td>280</td>\n",
       "    </tr>\n",
       "  </tbody>\n",
       "</table>\n",
       "<p>4910 rows × 2 columns</p>\n",
       "</div>"
      ],
      "text/plain": [
       "     CustomerID  RegionID\n",
       "0      CG-12520         1\n",
       "1      DV-13045         2\n",
       "2      SO-20335         3\n",
       "3      BH-11710         4\n",
       "4      AA-10480         5\n",
       "...         ...       ...\n",
       "4905   ML-17410       142\n",
       "4906   RA-19885       507\n",
       "4907   TB-21400       124\n",
       "4908   DB-13060       147\n",
       "4909   CC-12220       280\n",
       "\n",
       "[4910 rows x 2 columns]"
      ]
     },
     "execution_count": 11,
     "metadata": {},
     "output_type": "execute_result"
    }
   ],
   "source": [
    "# fetch customer_address_sql\n",
    "customer_address_sql = pd.read_sql_query(\"SELECT * FROM CustomerAddress\", conn)\n",
    "customer_address_sql"
   ]
  },
  {
   "attachments": {
    "image.png": {
     "image/png": "[encoded data removed]"
    }
   },
   "cell_type": "markdown",
   "metadata": {},
   "source": [
    "![image.png](attachment:image.png)\n",
    "\n",
    "same customer ID can be linked to different addresses and viceversa"
   ]
  },
  {
   "cell_type": "markdown",
   "metadata": {},
   "source": [
    "### Populate Categories"
   ]
  },
  {
   "cell_type": "code",
   "execution_count": 12,
   "metadata": {},
   "outputs": [
    {
     "data": {
      "text/plain": [
       "17"
      ]
     },
     "execution_count": 12,
     "metadata": {},
     "output_type": "execute_result"
    }
   ],
   "source": [
    "# Create unique category + subcategory + code\n",
    "categories_df = superstore_df[['Category', 'Sub-Category']].drop_duplicates()\n",
    "categories_df['CategoryCode'] = categories_df['Category'].str[:3].str.upper() + '-' + categories_df['Sub-Category'].str[:2].str.upper()\n",
    "categories_df = categories_df.rename(columns={\n",
    "    'Category': 'CategoryName',\n",
    "    'Sub-Category': 'SubCategoryName'\n",
    "})\n",
    "\n",
    "categories_df.to_sql('Categories', conn, if_exists='append', index=False)"
   ]
  },
  {
   "cell_type": "code",
   "execution_count": 13,
   "metadata": {},
   "outputs": [
    {
     "data": {
      "text/html": [
       "<div>\n",
       "<style scoped>\n",
       "    .dataframe tbody tr th:only-of-type {\n",
       "        vertical-align: middle;\n",
       "    }\n",
       "\n",
       "    .dataframe tbody tr th {\n",
       "        vertical-align: top;\n",
       "    }\n",
       "\n",
       "    .dataframe thead th {\n",
       "        text-align: right;\n",
       "    }\n",
       "</style>\n",
       "<table border=\"1\" class=\"dataframe\">\n",
       "  <thead>\n",
       "    <tr style=\"text-align: right;\">\n",
       "      <th></th>\n",
       "      <th>CategoryID</th>\n",
       "      <th>CategoryName</th>\n",
       "      <th>SubCategoryName</th>\n",
       "      <th>CategoryCode</th>\n",
       "    </tr>\n",
       "  </thead>\n",
       "  <tbody>\n",
       "    <tr>\n",
       "      <th>0</th>\n",
       "      <td>1</td>\n",
       "      <td>Furniture</td>\n",
       "      <td>Bookcases</td>\n",
       "      <td>FUR-BO</td>\n",
       "    </tr>\n",
       "    <tr>\n",
       "      <th>1</th>\n",
       "      <td>2</td>\n",
       "      <td>Furniture</td>\n",
       "      <td>Chairs</td>\n",
       "      <td>FUR-CH</td>\n",
       "    </tr>\n",
       "    <tr>\n",
       "      <th>2</th>\n",
       "      <td>3</td>\n",
       "      <td>Office Supplies</td>\n",
       "      <td>Labels</td>\n",
       "      <td>OFF-LA</td>\n",
       "    </tr>\n",
       "    <tr>\n",
       "      <th>3</th>\n",
       "      <td>4</td>\n",
       "      <td>Furniture</td>\n",
       "      <td>Tables</td>\n",
       "      <td>FUR-TA</td>\n",
       "    </tr>\n",
       "    <tr>\n",
       "      <th>4</th>\n",
       "      <td>5</td>\n",
       "      <td>Office Supplies</td>\n",
       "      <td>Storage</td>\n",
       "      <td>OFF-ST</td>\n",
       "    </tr>\n",
       "    <tr>\n",
       "      <th>5</th>\n",
       "      <td>6</td>\n",
       "      <td>Furniture</td>\n",
       "      <td>Furnishings</td>\n",
       "      <td>FUR-FU</td>\n",
       "    </tr>\n",
       "    <tr>\n",
       "      <th>6</th>\n",
       "      <td>7</td>\n",
       "      <td>Office Supplies</td>\n",
       "      <td>Art</td>\n",
       "      <td>OFF-AR</td>\n",
       "    </tr>\n",
       "    <tr>\n",
       "      <th>7</th>\n",
       "      <td>8</td>\n",
       "      <td>Technology</td>\n",
       "      <td>Phones</td>\n",
       "      <td>TEC-PH</td>\n",
       "    </tr>\n",
       "    <tr>\n",
       "      <th>8</th>\n",
       "      <td>9</td>\n",
       "      <td>Office Supplies</td>\n",
       "      <td>Binders</td>\n",
       "      <td>OFF-BI</td>\n",
       "    </tr>\n",
       "    <tr>\n",
       "      <th>9</th>\n",
       "      <td>10</td>\n",
       "      <td>Office Supplies</td>\n",
       "      <td>Appliances</td>\n",
       "      <td>OFF-AP</td>\n",
       "    </tr>\n",
       "    <tr>\n",
       "      <th>10</th>\n",
       "      <td>11</td>\n",
       "      <td>Office Supplies</td>\n",
       "      <td>Paper</td>\n",
       "      <td>OFF-PA</td>\n",
       "    </tr>\n",
       "    <tr>\n",
       "      <th>11</th>\n",
       "      <td>12</td>\n",
       "      <td>Technology</td>\n",
       "      <td>Accessories</td>\n",
       "      <td>TEC-AC</td>\n",
       "    </tr>\n",
       "    <tr>\n",
       "      <th>12</th>\n",
       "      <td>13</td>\n",
       "      <td>Office Supplies</td>\n",
       "      <td>Envelopes</td>\n",
       "      <td>OFF-EN</td>\n",
       "    </tr>\n",
       "    <tr>\n",
       "      <th>13</th>\n",
       "      <td>14</td>\n",
       "      <td>Office Supplies</td>\n",
       "      <td>Fasteners</td>\n",
       "      <td>OFF-FA</td>\n",
       "    </tr>\n",
       "    <tr>\n",
       "      <th>14</th>\n",
       "      <td>15</td>\n",
       "      <td>Office Supplies</td>\n",
       "      <td>Supplies</td>\n",
       "      <td>OFF-SU</td>\n",
       "    </tr>\n",
       "    <tr>\n",
       "      <th>15</th>\n",
       "      <td>16</td>\n",
       "      <td>Technology</td>\n",
       "      <td>Machines</td>\n",
       "      <td>TEC-MA</td>\n",
       "    </tr>\n",
       "    <tr>\n",
       "      <th>16</th>\n",
       "      <td>17</td>\n",
       "      <td>Technology</td>\n",
       "      <td>Copiers</td>\n",
       "      <td>TEC-CO</td>\n",
       "    </tr>\n",
       "  </tbody>\n",
       "</table>\n",
       "</div>"
      ],
      "text/plain": [
       "    CategoryID     CategoryName SubCategoryName CategoryCode\n",
       "0            1        Furniture       Bookcases       FUR-BO\n",
       "1            2        Furniture          Chairs       FUR-CH\n",
       "2            3  Office Supplies          Labels       OFF-LA\n",
       "3            4        Furniture          Tables       FUR-TA\n",
       "4            5  Office Supplies         Storage       OFF-ST\n",
       "5            6        Furniture     Furnishings       FUR-FU\n",
       "6            7  Office Supplies             Art       OFF-AR\n",
       "7            8       Technology          Phones       TEC-PH\n",
       "8            9  Office Supplies         Binders       OFF-BI\n",
       "9           10  Office Supplies      Appliances       OFF-AP\n",
       "10          11  Office Supplies           Paper       OFF-PA\n",
       "11          12       Technology     Accessories       TEC-AC\n",
       "12          13  Office Supplies       Envelopes       OFF-EN\n",
       "13          14  Office Supplies       Fasteners       OFF-FA\n",
       "14          15  Office Supplies        Supplies       OFF-SU\n",
       "15          16       Technology        Machines       TEC-MA\n",
       "16          17       Technology         Copiers       TEC-CO"
      ]
     },
     "execution_count": 13,
     "metadata": {},
     "output_type": "execute_result"
    }
   ],
   "source": [
    "# verify categories table\n",
    "categories_sql = pd.read_sql_query(\"SELECT * FROM Categories\", conn)\n",
    "categories_sql"
   ]
  },
  {
   "cell_type": "markdown",
   "metadata": {},
   "source": [
    "### Populate Products"
   ]
  },
  {
   "cell_type": "code",
   "execution_count": 21,
   "metadata": {},
   "outputs": [
    {
     "data": {
      "text/plain": [
       "1894"
      ]
     },
     "execution_count": 21,
     "metadata": {},
     "output_type": "execute_result"
    }
   ],
   "source": [
    "products_df = superstore_df[['Product_ID', 'Product_Name', 'Category', 'Sub-Category']].drop_duplicates()\n",
    "products_df['CategoryCode'] = products_df['Category'].str[:3].str.upper() + '-' + products_df['Sub-Category'].str[:2].str.upper()\n",
    "\n",
    "products_df = products_df.rename(columns={\n",
    "    'Product_ID': 'ProductID',\n",
    "    'Product_Name': 'ProductName'\n",
    "})[['ProductID', 'ProductName', 'CategoryCode']]\n",
    "\n",
    "products_df.to_sql('Products', conn, if_exists='replace', index=False)\n"
   ]
  },
  {
   "cell_type": "markdown",
   "metadata": {},
   "source": [
    "if_exists='append' adds new rows without checking for duplicates. So each time you run it, all the same rows get re-inserted, causing:\n",
    "\n",
    "- duplicate data\n",
    "\n",
    "- UNIQUE constraint errors (if primary keys exist)\n",
    "\n",
    "Alternatives:\n",
    "1. Overwrite Table Each Time (Good for Dev)\n",
    "products_df.to_sql('Products', conn, if_exists='replace', index=False)\n",
    "- Drops and recreates the table every time\n",
    "- Ensures no duplicates\n",
    "- ⚠️ Loses previously inserted data\n",
    "\n",
    "2. Append Only New Records\n",
    "\n",
    "Get existing ProductIDs from the database\n",
    "existing_ids = pd.read_sql(\"SELECT ProductID FROM Products\", conn)['ProductID']\n",
    "\n",
    "Filter out duplicates\n",
    "new_products_df = products_df[~products_df['ProductID'].isin(existing_ids)]\n",
    "\n",
    "Append only new ones\n",
    "new_products_df.to_sql('Products', conn, if_exists='append', index=False)"
   ]
  },
  {
   "cell_type": "markdown",
   "metadata": {},
   "source": [
    "### Populate Shipping"
   ]
  },
  {
   "cell_type": "code",
   "execution_count": null,
   "metadata": {},
   "outputs": [],
   "source": [
    "# drop duplicates in products table\n",
    "shipping_df = superstore_df[['Ship_Mode', 'Ship_Date']].drop_duplicates()\n",
    "\n",
    "# rename columns for consistency\n",
    "shipping_df = shipping_df.rename(columns={\n",
    "    'Ship_Mode': 'ShipMode',\n",
    "    'Ship_Date': 'ShipDate'\n",
    "})\n",
    "\n",
    "# upload to SQL\n",
    "shipping_df.to_sql('Shipping', conn, if_exists='append', index=False)\n",
    "\n",
    "# Get ShipID for join\n",
    "shipping_sql = pd.read_sql_query(\"SELECT * FROM Shipping\", conn)\n"
   ]
  },
  {
   "cell_type": "code",
   "execution_count": null,
   "metadata": {},
   "outputs": [
    {
     "data": {
      "text/html": [
       "<div>\n",
       "<style scoped>\n",
       "    .dataframe tbody tr th:only-of-type {\n",
       "        vertical-align: middle;\n",
       "    }\n",
       "\n",
       "    .dataframe tbody tr th {\n",
       "        vertical-align: top;\n",
       "    }\n",
       "\n",
       "    .dataframe thead th {\n",
       "        text-align: right;\n",
       "    }\n",
       "</style>\n",
       "<table border=\"1\" class=\"dataframe\">\n",
       "  <thead>\n",
       "    <tr style=\"text-align: right;\">\n",
       "      <th></th>\n",
       "      <th>ShipID</th>\n",
       "      <th>ShipMode</th>\n",
       "      <th>ShipDate</th>\n",
       "    </tr>\n",
       "  </thead>\n",
       "  <tbody>\n",
       "    <tr>\n",
       "      <th>0</th>\n",
       "      <td>1</td>\n",
       "      <td>Second Class</td>\n",
       "      <td>2016-11-11</td>\n",
       "    </tr>\n",
       "    <tr>\n",
       "      <th>1</th>\n",
       "      <td>2</td>\n",
       "      <td>Second Class</td>\n",
       "      <td>2016-06-16</td>\n",
       "    </tr>\n",
       "    <tr>\n",
       "      <th>2</th>\n",
       "      <td>3</td>\n",
       "      <td>Standard Class</td>\n",
       "      <td>2015-10-18</td>\n",
       "    </tr>\n",
       "    <tr>\n",
       "      <th>3</th>\n",
       "      <td>4</td>\n",
       "      <td>Standard Class</td>\n",
       "      <td>2014-06-14</td>\n",
       "    </tr>\n",
       "    <tr>\n",
       "      <th>4</th>\n",
       "      <td>5</td>\n",
       "      <td>Standard Class</td>\n",
       "      <td>2017-04-20</td>\n",
       "    </tr>\n",
       "    <tr>\n",
       "      <th>...</th>\n",
       "      <td>...</td>\n",
       "      <td>...</td>\n",
       "      <td>...</td>\n",
       "    </tr>\n",
       "    <tr>\n",
       "      <th>2603</th>\n",
       "      <td>2604</td>\n",
       "      <td>Same Day</td>\n",
       "      <td>2015-07-26</td>\n",
       "    </tr>\n",
       "    <tr>\n",
       "      <th>2604</th>\n",
       "      <td>2605</td>\n",
       "      <td>First Class</td>\n",
       "      <td>2017-08-06</td>\n",
       "    </tr>\n",
       "    <tr>\n",
       "      <th>2605</th>\n",
       "      <td>2606</td>\n",
       "      <td>Standard Class</td>\n",
       "      <td>2015-05-23</td>\n",
       "    </tr>\n",
       "    <tr>\n",
       "      <th>2606</th>\n",
       "      <td>2607</td>\n",
       "      <td>Second Class</td>\n",
       "      <td>2014-01-23</td>\n",
       "    </tr>\n",
       "    <tr>\n",
       "      <th>2607</th>\n",
       "      <td>2608</td>\n",
       "      <td>Standard Class</td>\n",
       "      <td>2017-03-03</td>\n",
       "    </tr>\n",
       "  </tbody>\n",
       "</table>\n",
       "<p>2608 rows × 3 columns</p>\n",
       "</div>"
      ],
      "text/plain": [
       "      ShipID        ShipMode    ShipDate\n",
       "0          1    Second Class  2016-11-11\n",
       "1          2    Second Class  2016-06-16\n",
       "2          3  Standard Class  2015-10-18\n",
       "3          4  Standard Class  2014-06-14\n",
       "4          5  Standard Class  2017-04-20\n",
       "...      ...             ...         ...\n",
       "2603    2604        Same Day  2015-07-26\n",
       "2604    2605     First Class  2017-08-06\n",
       "2605    2606  Standard Class  2015-05-23\n",
       "2606    2607    Second Class  2014-01-23\n",
       "2607    2608  Standard Class  2017-03-03\n",
       "\n",
       "[2608 rows x 3 columns]"
      ]
     },
     "execution_count": 17,
     "metadata": {},
     "output_type": "execute_result"
    }
   ],
   "source": [
    "# verify shipping table\n",
    "shipping_sql"
   ]
  },
  {
   "cell_type": "markdown",
   "metadata": {},
   "source": [
    "### Populate Orders "
   ]
  },
  {
   "cell_type": "code",
   "execution_count": null,
   "metadata": {},
   "outputs": [
    {
     "data": {
      "text/plain": [
       "5009"
      ]
     },
     "execution_count": 18,
     "metadata": {},
     "output_type": "execute_result"
    }
   ],
   "source": [
    "# drop duplicates in orders table\n",
    "orders_df = superstore_df[['Order_ID', 'Order_Date', 'Customer_ID', 'Ship_Mode', 'Ship_Date']].drop_duplicates()\n",
    "\n",
    "# rename columns for consistency\n",
    "orders_df = orders_df.rename(columns={\n",
    "    'Order_ID': 'OrderID',\n",
    "    'Order_Date': 'OrderDate',\n",
    "    'Customer_ID': 'CustomerID',\n",
    "    'Ship_Mode': 'ShipMode',\n",
    "    'Ship_Date': 'ShipDate'\n",
    "})\n",
    "\n",
    "# Add ShipID by merging with shipping table\n",
    "orders_df = orders_df.merge(shipping_sql, on=['ShipMode', 'ShipDate'], how='left')[['OrderID', 'OrderDate', 'CustomerID', 'ShipID']]\n",
    "\n",
    "# upload to SQL\n",
    "orders_df.to_sql('Orders', conn, if_exists='append', index=False)\n"
   ]
  },
  {
   "cell_type": "markdown",
   "metadata": {},
   "source": [
    "### Populate OrderDetails"
   ]
  },
  {
   "cell_type": "code",
   "execution_count": null,
   "metadata": {},
   "outputs": [
    {
     "data": {
      "text/plain": [
       "9994"
      ]
     },
     "execution_count": 19,
     "metadata": {},
     "output_type": "execute_result"
    }
   ],
   "source": [
    "# drop duplicates in order details table\n",
    "orderdetails_df = superstore_df[['Order_ID', 'Product_ID', 'Sales', 'Quantity', 'Discount', 'Profit']]\n",
    "\n",
    "#rename columns for consistency\n",
    "orderdetails_df = orderdetails_df.rename(columns={\n",
    "    'Order_ID': 'OrderID',\n",
    "    'Product_ID': 'ProductID'\n",
    "})\n",
    "\n",
    "#upload to SQL\n",
    "orderdetails_df.to_sql('OrderDetails', conn, if_exists='append', index=False)\n"
   ]
  }
 ],
 "metadata": {
  "kernelspec": {
   "display_name": "codeacademy",
   "language": "python",
   "name": "python3"
  },
  "language_info": {
   "codemirror_mode": {
    "name": "ipython",
    "version": 3
   },
   "file_extension": ".py",
   "mimetype": "text/x-python",
   "name": "python",
   "nbconvert_exporter": "python",
   "pygments_lexer": "ipython3",
   "version": "3.12.7"
  }
 },
 "nbformat": 4,
 "nbformat_minor": 2
}
